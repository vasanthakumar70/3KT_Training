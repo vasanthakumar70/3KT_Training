{
 "cells": [
  {
   "cell_type": "code",
   "execution_count": 2,
   "id": "7e582d69-9f61-411f-baf8-5a303d73ffbc",
   "metadata": {
    "tags": []
   },
   "outputs": [
    {
     "data": {
      "text/plain": [
       "'2024/12/16.log'"
      ]
     },
     "execution_count": 2,
     "metadata": {},
     "output_type": "execute_result"
    }
   ],
   "source": [
    "import datetime\n",
    "import datetime\n",
    "current_date = datetime.date.today().strftime('%Y/%m/%d')\n",
    "filename=current_date + \".log\"\n",
    "filename"
   ]
  },
  {
   "cell_type": "code",
   "execution_count": 26,
   "id": "0f75ff06-ae6e-4f20-9550-6339f201c85b",
   "metadata": {
    "tags": []
   },
   "outputs": [],
   "source": [
    "from pyspark.sql import SparkSession\n",
    "\n",
    "spark=SparkSession.builder.appName(\"log_analysis\").getOrCreate()"
   ]
  },
  {
   "cell_type": "code",
   "execution_count": 98,
   "id": "92626466-9eec-4a96-8fa1-f301afd3e1b8",
   "metadata": {
    "tags": []
   },
   "outputs": [],
   "source": [
    "from pyspark.sql.functions import to_timestamp,col,datediff,current_date,to_date,count,avg,round\n",
    "from pyspark.sql.types import StructType,StructField,IntegerType,StringType,TimestampType,DateType"
   ]
  },
  {
   "cell_type": "code",
   "execution_count": 46,
   "id": "8ba56439-fa9f-4aa6-9c44-5306ed8e8883",
   "metadata": {
    "tags": []
   },
   "outputs": [],
   "source": [
    "schema=StructType([\n",
    "    StructField(\"log_level\",StringType(),True),\n",
    "    StructField(\"message\",StringType(),True),\n",
    "    StructField(\"server_id\",StringType(),True),\n",
    "    StructField(\"timestamp\",TimestampType(),True)\n",
    "])"
   ]
  },
  {
   "cell_type": "code",
   "execution_count": 47,
   "id": "c37592c8-1e4e-4eea-ae15-35539582c0e5",
   "metadata": {
    "tags": []
   },
   "outputs": [],
   "source": [
    "df=spark.read.format(\"json\")\\\n",
    "    .option(\"multiline\",\"True\")\\\n",
    "    .option(\"schema\",schema)\\\n",
    "    .load(\"sample_logs.json\")"
   ]
  },
  {
   "cell_type": "code",
   "execution_count": 48,
   "id": "130fbf16-6bbb-49f2-b2e5-5ecf58769c8e",
   "metadata": {
    "tags": []
   },
   "outputs": [
    {
     "name": "stdout",
     "output_type": "stream",
     "text": [
      "root\n",
      " |-- log_level: string (nullable = true)\n",
      " |-- message: string (nullable = true)\n",
      " |-- server_id: string (nullable = true)\n",
      " |-- timestamp: string (nullable = true)\n",
      "\n"
     ]
    }
   ],
   "source": [
    "df.printSchema()"
   ]
  },
  {
   "cell_type": "code",
   "execution_count": 58,
   "id": "c9370d43-3152-4da7-b96e-60886d92b0c1",
   "metadata": {
    "tags": []
   },
   "outputs": [],
   "source": [
    "df=df.withColumn(\"timestamp\",to_timestamp(\"timestamp\",\"yyyy-MM-dd'T'HH:mm:ss\"))"
   ]
  },
  {
   "cell_type": "markdown",
   "id": "60e42306-4978-4af0-a190-a861839c07bc",
   "metadata": {},
   "source": [
    "Identify the top 3 servers with the highest number of ERROR logs over the past week. \n"
   ]
  },
  {
   "cell_type": "code",
   "execution_count": 88,
   "id": "2763bdee-30a2-4418-83b6-cde80f397ba6",
   "metadata": {
    "tags": []
   },
   "outputs": [
    {
     "name": "stdout",
     "output_type": "stream",
     "text": [
      "+---------+-----+\n",
      "|server_id|count|\n",
      "+---------+-----+\n",
      "|Server_05|  324|\n",
      "|Server_12|  321|\n",
      "|Server_07|  318|\n",
      "+---------+-----+\n",
      "only showing top 3 rows\n",
      "\n"
     ]
    }
   ],
   "source": [
    "filtered_df=df.filter(\n",
    "    (col(\"log_level\")==\"ERROR\") & \n",
    "    (datediff(current_date(),to_date(\"timestamp\"))<=7)\n",
    ")\n",
    "\n",
    "filtered_df\\\n",
    "    .groupBy(\"server_id\").agg(count(col(\"server_id\")).alias(\"count\"))\\\n",
    "    .orderBy(col(\"count\").desc())\\\n",
    "    .show(3)\n"
   ]
  },
  {
   "cell_type": "markdown",
   "id": "75b090fa-6ff2-4866-9e11-db8ab8cc2bc3",
   "metadata": {},
   "source": [
    "Calculate the average number of logs generated per day by each server over the past week. "
   ]
  },
  {
   "cell_type": "code",
   "execution_count": 101,
   "id": "82f8b5d2-bd43-4432-b8cc-6fd207c8f2d0",
   "metadata": {
    "tags": []
   },
   "outputs": [
    {
     "name": "stdout",
     "output_type": "stream",
     "text": [
      "+---------+---------+\n",
      "|server_id|avg_count|\n",
      "+---------+---------+\n",
      "|Server_05|   136.43|\n",
      "|Server_06|    132.0|\n",
      "|Server_07|   131.43|\n",
      "|Server_09|   130.57|\n",
      "|Server_10|   130.14|\n",
      "|Server_19|    130.0|\n",
      "|Server_13|   129.43|\n",
      "|Server_17|   129.14|\n",
      "|Server_02|    129.0|\n",
      "|Server_04|   127.71|\n",
      "|Server_12|   126.43|\n",
      "|Server_16|   125.86|\n",
      "|Server_01|   125.29|\n",
      "|Server_20|   124.86|\n",
      "|Server_11|   124.71|\n",
      "|Server_14|   124.29|\n",
      "|Server_03|   124.14|\n",
      "|Server_18|    124.0|\n",
      "|Server_15|   123.57|\n",
      "|Server_08|   117.86|\n",
      "+---------+---------+\n",
      "\n"
     ]
    }
   ],
   "source": [
    "filtered_df1=df.filter(\n",
    "    (datediff(current_date(),to_date(\"timestamp\"))<=7)\n",
    ")\n",
    "filtered_df1\\\n",
    "    .withColumn(\"date\",to_date(\"timestamp\"))\\\n",
    "    .groupBy(\"date\",\"server_id\").agg(count(\"*\").alias(\"total_count\"))\\\n",
    "    .groupBy(\"server_id\").agg(round(avg(\"total_count\"),2).alias(\"avg_count\"))\\\n",
    "    .orderBy(col(\"avg_count\").desc())\\\n",
    "    .show()\n",
    "    "
   ]
  },
  {
   "cell_type": "markdown",
   "id": "68fb43c0-b9d2-4b54-bad0-38f3584d801b",
   "metadata": {},
   "source": [
    "Provide a summary report of the most common log messages for each severity level. "
   ]
  },
  {
   "cell_type": "code",
   "execution_count": 106,
   "id": "b96b4c83-31a6-47c4-a283-abedf25bd2c8",
   "metadata": {
    "tags": []
   },
   "outputs": [
    {
     "name": "stdout",
     "output_type": "stream",
     "text": [
      "+---------+--------------------------------------------+--------+\n",
      "|log_level|message                                     |count(1)|\n",
      "+---------+--------------------------------------------+--------+\n",
      "|ERROR    |Failed to connect to the database.          |1332    |\n",
      "|ERROR    |Critical security vulnerability detected.   |1324    |\n",
      "|ERROR    |Disk write failure.                         |1385    |\n",
      "|ERROR    |Disk space low.                             |1264    |\n",
      "|ERROR    |Application crashed due to an unknown error.|1361    |\n",
      "|INFO     |Service restarted successfully.             |1598    |\n",
      "|INFO     |Server started successfully.                |1602    |\n",
      "|INFO     |Backup completed successfully.              |1653    |\n",
      "|INFO     |System maintenance completed.               |1709    |\n",
      "|WARN     |Memory usage exceeded 80%.                  |2293    |\n",
      "|WARN     |High CPU usage detected.                    |2203    |\n",
      "|WARN     |High memory usage detected.                 |2276    |\n",
      "+---------+--------------------------------------------+--------+\n",
      "\n"
     ]
    }
   ],
   "source": [
    "df.\\\n",
    "    groupBy(\"log_level\",\"message\").agg(count(\"*\"))\\\n",
    "    .orderBy(col(\"log_level\"))\\\n",
    "    .show(truncate=False)"
   ]
  },
  {
   "cell_type": "code",
   "execution_count": null,
   "id": "60519347-8a75-4e0f-8ff6-21595d3f3cd9",
   "metadata": {},
   "outputs": [],
   "source": []
  }
 ],
 "metadata": {
  "kernelspec": {
   "display_name": "Python 3 (ipykernel)",
   "language": "python",
   "name": "python3"
  },
  "language_info": {
   "codemirror_mode": {
    "name": "ipython",
    "version": 3
   },
   "file_extension": ".py",
   "mimetype": "text/x-python",
   "name": "python",
   "nbconvert_exporter": "python",
   "pygments_lexer": "ipython3",
   "version": "3.7.10"
  }
 },
 "nbformat": 4,
 "nbformat_minor": 5
}
